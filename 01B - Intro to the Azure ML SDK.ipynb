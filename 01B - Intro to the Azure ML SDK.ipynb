﻿{
 "cells": [
  {
   "cell_type": "markdown",
   "metadata": {},
   "source": [
    "#Azure ML SDK 소개\n",
    "\n",
    "*Azure ML*(Machine Learning)은 기계 학습 솔루션 작성/관리용 클라우드 기반 서비스입니다. 데이터 과학자는 이 서비스를 통해 기존 데이터 처리 및 모델 개발 기술과 프레임워크를 활용할 수 있으며, 워크로드를 클라우드로 확장할 수 있습니다. Python용 Azure ML SDK에서는 Azure 구독에서 Azure ML을 사용하는 데 활용 가능한 클래스가 제공됩니다.\n",
    "\n",
    "##Azure ML SDK 버전 확인\n",
    "\n",
    "먼저 **azureml-core** 패키지를 가져온 다음 설치되는 SDK의 버전을 확인해 보겠습니다."
   ]
  },
  {
   "cell_type": "code",
   "execution_count": null,
   "metadata": {},
   "outputs": [],
   "source": [
    "import azureml.core\n",
    "print(\"Ready to use Azure ML\", azureml.core.VERSION)"
   ]
  },
  {
   "cell_type": "markdown",
   "metadata": {},
   "source": [
    "##작업 영역에 연결\n",
    "\n",
    "Azure ML 작업 영역 내에서 모든 실험 및 관련 리소스를 관리합니다. 기존 작업 영역에 연결하거나 Azure ML SDK를 사용하여 새 작업 영역을 만들 수 있습니다.\n",
    "\n",
    "대부분의 경우에는 JSON 구성 파일에 작업 영역 구성을 저장해야 합니다. 이렇게 하면 Azure 구독 ID 등의 세부 정보를 기억할 필요 없이 더욱 쉽게 다시 연결할 수 있습니다. Azure Portal의 작업 영역 블레이드에서 JSON 구성 파일을 다운로드할 수 있습니다. 그러나 작업 영역 내에서 컴퓨팅 인스턴스를 사용 중이라면 구성 파일은 루트 폴더에 이미 다운로드된 상태입니다.\n",
    "\n",
    "아래 코드는 구성 파일을 사용하여 작업 영역에 연결합니다. Notebook 세션에서 코드를 처음 실행하면 Azure에 로그인하라는 메시지가 표시됩니다. 그러면 https://microsoft.com/devicelogin 링크를 클릭한 다음 자동 생성된 코드를 입력해 Azure에 로그인합니다. 정상적으로 로그인한 후에 열렸던 브라우저 탭을 닫고 이 Notebook으로 돌아오면 됩니다."
   ]
  },
  {
   "cell_type": "code",
   "execution_count": null,
   "metadata": {},
   "outputs": [],
   "source": [
    "from azureml.core import Workspace\n",
    "\n",
    "ws = Workspace.from_config()\n",
    "print(ws.name, \"loaded\")"
   ]
  },
  {
   "cell_type": "markdown",
   "metadata": {},
   "source": [
     "##Azure ML 리소스 확인\n",
    "\n",
    "작업 영역에 연결한 후에는 작업 영역에 포함된 리소스를 확인할 수 있습니다."
   ]
  },
  {
   "cell_type": "code",
   "execution_count": null,
   "metadata": {},
   "outputs": [],
   "source": [
    "from azureml.core import ComputeTarget, Datastore, Dataset\n",
    "\n",
    "print(\"Compute Targets:\")\n",
    "for compute_name in ws.compute_targets:\n",
    "    compute = ws.compute_targets[compute_name]\n",
    "    print(\"\\t\", compute.name, ':', compute.type)\n",
    "    \n",
    "print(\"Datastores:\")\n",
    "for datastore_name in ws.datastores:\n",
    "    datastore = Datastore.get(ws, datastore_name)\n",
    "    print(\"\\t\", datastore.name, ':', datastore.datastore_type)\n",
    "    \n",
    "print(\"Datasets:\")\n",
    "for dataset_name in list(ws.datasets.keys()):\n",
    "    dataset = Dataset.get_by_name(ws, dataset_name)\n",
    "    print(\"\\t\", dataset.name)"
   ]
  },
  {
   "cell_type": "markdown",
   "metadata": {},
   "source": [
    "지금까지 Azure ML SDK를 사용하여 작업 영역의 리소스를 확인하는 방법을 살펴보았습니다. SDK를 활용하면 Azure ML을 사용해 기계 학습 워크로드를 작동하는 데 필요한 리소스의 작성 및 구성 과정을 스크립트로 작성할 수 있습니다. 자세한 내용은 [Azure ML SDK 설명서](https://docs.microsoft.com/python/api/overview/azure/ml/intro?view=azure-ml-py)를 참조하세요."
   ]
  }
 ],
 "metadata": {
  "kernelspec": {
   "display_name": "Python 3.6 - AzureML",
   "language": "python",
   "name": "python3-azureml"
  },
  "language_info": {
   "codemirror_mode": {
    "name": "ipython",
    "version": 3
   },
   "file_extension": ".py",
   "mimetype": "text/x-python",
   "name": "python",
   "nbconvert_exporter": "python",
   "pygments_lexer": "ipython3",
   "version": "3.6.9"
  }
 },
 "nbformat": 4,
 "nbformat_minor": 2
}
