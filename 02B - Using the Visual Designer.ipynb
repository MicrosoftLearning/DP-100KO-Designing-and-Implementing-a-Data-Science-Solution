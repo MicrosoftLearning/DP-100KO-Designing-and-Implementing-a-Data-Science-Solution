﻿{
 "cells": [
  {
   "cell_type": "markdown",
   "metadata": {},
   "source": [
    "#비주얼 디자이너 사용\n",
    "\n",
    "> **중요**: 이 연습에서는 [랩 2A](labdocs/Lab02A.md) 및 [랩 2B](labdocs/Lab02B.md)를 완료하여 유추 파이프라인을 만들고 컨테이너화된 서비스로 배포했다고 가정합니다.\n",
    "\n",
    "**predict-diabetes** 서비스에 ***ENDPOINT*** 및 ***PRIMARY_KEY***를 사용하도록 아래 셀의 코드를 수정합니다. 그런 다음 셀을 실행하여 새 환자 데이터를 제출하고 예측된 분류를 검색합니다."
   ]
  },
  {
   "cell_type": "code",
   "execution_count": null,
   "metadata": {},
   "outputs": [],
   "source": [
    "import urllib.request\n",
    "import json\n",
    "import os\n",
    "\n",
    "endpoint = 'ENDPOINT' #엔드포인트로 바꾸기\n",
    "key = 'PRIMARY_KEY' #기본 키로 바꾸기\n",
    "\n",
    "data = {\n",
    "    \"Inputs\": {\n",
    "          \"WebServiceInput0\":\n",
    "          [\n",
    "              {\n",
    "                    'PatientID': \"1882185\",\n",
    "                    'Pregnancies': \"9\",\n",
    "                    'PlasmaGlucose': \"104\",\n",
    "                    'DiastolicBloodPressure': \"51\",\n",
    "                    'TricepsThickness': \"7\",\n",
    "                    'SerumInsulin': \"24\",\n",
    "                    'BMI': \"27.36983156\",\n",
    "                    'DiabetesPedigree': \"1.3504720469999998\",\n",
    "                    'Age': \"43\",\n",
    "              },\n",
    "          ],\n",
    "    },\n",
    "    \"GlobalParameters\":  {\n",
    "    }\n",
    "}\n",
    "\n",
    "body = str.encode(json.dumps(data))\n",
    "\n",
    "\n",
    "headers = {'Content-Type':'application/json', 'Authorization':('Bearer '+ key)}\n",
    "\n",
    "req = urllib.request.Request(endpoint, body, headers)\n",
    "\n",
    "try:\n",
    "    response = urllib.request.urlopen(req)\n",
    "\n",
    "    result = response.read()\n",
    "    print(result)\n",
    "except urllib.error.HTTPError as error:\n",
    "    print(\"The request failed with status code: \" + str(error.code))\n",
    "\n",
    "    #오류 디버깅 시 유용한 요청 ID와 타임스탬프가 포함된 헤더 인쇄\n",
    "    print(error.info())\n",
    "    print(json.loads(error.read().decode(\"utf8\", 'ignore')))"
   ]
  }
 ],
 "metadata": {
  "kernelspec": {
   "display_name": "Python 3.6 - AzureML",
   "language": "python",
   "name": "python3-azureml"
  },
  "language_info": {
   "codemirror_mode": {
    "name": "ipython",
    "version": 3
   },
   "file_extension": ".py",
   "mimetype": "text/x-python",
   "name": "python",
   "nbconvert_exporter": "python",
   "pygments_lexer": "ipython3",
   "version": "3.6.9"
  }
 },
 "nbformat": 4,
 "nbformat_minor": 2
}
