﻿{
  "cells": [
    {
      "cell_type": "markdown",
      "metadata": {},
      "source": [
        "# 모델 대상 학습 진행\r\n",
        "\r\n",
        "기계 학습의 가장 중요한 목표는 애플리케이션에서 사용할 수 있는 예측 모델을 학습시키는 것입니다. Azure Machine Learning에서는 스크립트를 사용하여 Scikit-Learn, Tensorflow, PyTorch, SparkML 등의 일반적인 기계 학습 프레임워크를 활용하는 모델을 학습시킬 수 있습니다. 이러한 학습 스크립트를 실험으로 실행하여 메트릭 및 출력(특히 학습된 모델)을 추적할 수 있습니다.\r\n",
        "\r\n",
        "## 작업 영역에 연결\r\n",
        "\r\n",
        "가장 먼저 해야 하는 작업은 Azure ML SDK를 사용하여 작업 영역에 연결하는 것입니다.\r\n",
        "\r\n",
        "> **참고**: 이전 연습을 완료한 후 Azure 구독으로 인증된 세션이 만료된 경우 다시 인증하라는 메시지가 표시됩니다."
      ]
    },
    {
      "cell_type": "code",
      "execution_count": null,
      "metadata": {},
      "outputs": [],
      "source": [
        "import azureml.core\n",
        "from azureml.core import Workspace\n",
        "\n",
        "# 저장된 구성 파일에서 작업 영역 로드\r\n",
        "ws = Workspace.from_config()\n",
        "print('Ready to use Azure ML {} to work with {}'.format(azureml.core.VERSION, ws.name))"
      ]
    },
    {
      "cell_type": "markdown",
      "metadata": {},
      "source": [
        "## 학습 스크립트 만들기\r\n",
        "\r\n",
        "Python 스크립트를 사용하여 당뇨병 데이터를 기반으로 기계 학습 모델의 학습을 진행할 것입니다. 먼저 스크립트 및 데이터 파일용 폴더를 만들어 보겠습니다."
      ]
    },
    {
      "cell_type": "code",
      "execution_count": null,
      "metadata": {},
      "outputs": [],
      "source": [
        "import os, shutil\n",
        "\n",
        "# 실험 파일용 폴더 만들기\r\n",
        "training_folder = 'diabetes-training'\n",
        "os.makedirs(training_folder, exist_ok=True)\n",
        "\n",
        "# 실험 폴더에 데이터 파일 복사\r\n",
        "shutil.copy('data/diabetes.csv', os.path.join(training_folder, \"diabetes.csv\"))"
      ]
    },
    {
      "cell_type": "markdown",
      "metadata": {},
      "source": [
        "이제 학습 스크립트를 만들어 폴더에 저장할 준비가 되었습니다."
      ]
    },
    {
      "cell_type": "code",
      "execution_count": null,
      "metadata": {},
      "outputs": [],
      "source": [
        "%%writefile $training_folder/diabetes_training.py\n",
        "# 라이브러리 가져오기\r\n",
        "from azureml.core import Run\n",
        "import pandas as pd\n",
        "import numpy as np\n",
        "import joblib\n",
        "import os\n",
        "from sklearn.model_selection import train_test_split\n",
        "from sklearn.linear_model import LogisticRegression\n",
        "from sklearn.metrics import roc_auc_score\n",
        "from sklearn.metrics import roc_curve\n",
        "\n",
        "# 실험 실행 컨텍스트 가져오기\r\n",
        "run = Run.get_context()\n",
        "\n",
        "# 당뇨병 데이터 세트 로드\r\n",
        "print(\"Loading Data...\")\n",
        "diabetes = pd.read_csv('diabetes.csv')\n",
        "\n",
        "# 기능 및 레이블 분리\r\n",
        "X, y = diabetes[['Pregnancies','PlasmaGlucose','DiastolicBloodPressure','TricepsThickness','SerumInsulin','BMI','DiabetesPedigree','Age']].values, diabetes['Diabetic'].values\n",
        "\n",
        "# 데이터를 학습 세트와 테스트 세트로 분할\r\n",
        "X_train, X_test, y_train, y_test = train_test_split(X, y, test_size=0.30, random_state=0)\n",
        "\n",
        "# 정규화 하이퍼 매개 변수 설정\r\n",
        "reg = 0.01\n",
        "\n",
        "# 로지스틱 회귀 모델 학습\r\n",
        "print('Training a logistic regression model with regularization rate of', reg)\n",
        "run.log('Regularization Rate',  np.float(reg))\n",
        "model = LogisticRegression(C=1/reg, solver=\"liblinear\").fit(X_train, y_train)\n",
        "\n",
        "# 정확도 계산\r\n",
        "y_hat = model.predict(X_test)\n",
        "acc = np.average(y_hat == y_test)\n",
        "print('Accuracy:', acc)\n",
        "run.log('Accuracy', np.float(acc))\n",
        "\n",
        "# AUC 계산\r\n",
        "y_scores = model.predict_proba(X_test)\n",
        "auc = roc_auc_score(y_test,y_scores[:,1])\n",
        "print('AUC: ' + str(auc))\n",
        "run.log('AUC', np.float(auc))\n",
        "\n",
        "# outputs 폴더에 학습된 모델 저장\r\n",
        "os.makedirs('outputs', exist_ok=True)\n",
        "joblib.dump(value=model, filename='outputs/diabetes_model.pkl')\n",
        "\n",
        "run.complete()"
      ]
    },
    {
      "cell_type": "markdown",
      "metadata": {},
      "source": [
        "## 추정기를 사용하여 스크립트를 실험으로 실행\r\n",
        "\r\n",
        "앞에서는 **RunConfiguration** 및 **ScriptRunConfig**를 사용하여 실험 스크립트를 실행했습니다. 학습 스크립트도 같은 방식으로 실행할 수는 있지만, **추정기**를 사용하는 방식이 전반적으로 더 쉽습니다. 추정기는 이 두 구성을 개체 하나에 추상화하기 때문입니다.\r\n",
        "\r\n",
        "여기서는 일반 **Estimator** 개체를 사용하여 학습 실험을 실행합니다. 이 추정기의 기본 환경에는 **scikit-learn** 패키지가 포함되어 있지 않으므로 구성에 이 패키지를 명시적으로 추가해야 합니다. Conda 환경은 추정기를 처음 사용할 때 요청하면 작성되어 같은 구성을 사용하는 이후 실행용으로 캐시됩니다. 따라서 첫 번째 실행은 시간이 좀 더 오래 걸립니다."
      ]
    },
    {
      "cell_type": "code",
      "execution_count": null,
      "metadata": {},
      "outputs": [],
      "source": [
        "from azureml.train.estimator import Estimator\n",
        "from azureml.core import Experiment\n",
        "\n",
        "# 추정기 만들기\r\n",
        "estimator = Estimator(source_directory=training_folder,\n",
        "                      entry_script='diabetes_training.py',\n",
        "                      compute_target='local',\n",
        "                      conda_packages=['scikit-learn']\n",
        "                      )\n",
        "\n",
        "# 실험 만들기\r\n",
        "experiment_name = 'diabetes-training'\n",
        "experiment = Experiment(workspace = ws, name = experiment_name)\n",
        "\n",
        "# 추정기를 기준으로 실험 실행\r\n",
        "run = experiment.submit(config=estimator)\n",
        "run.wait_for_completion(show_output=True)"
      ]
    },
    {
      "cell_type": "markdown",
      "metadata": {},
      "source": [
        "다른 실험 실행과 마찬가지로 여기서도 **RunDetails** 위젯을 사용하여 실행 관련 정보를 확인하고 Azure Machine Learning Studio에서 실행의 링크를 가져올 수 있습니다."
      ]
    },
    {
      "cell_type": "code",
      "execution_count": null,
      "metadata": {},
      "outputs": [],
      "source": [
        "from azureml.widgets import RunDetails\n",
        "\n",
        "RunDetails(run).show()"
      ]
    },
    {
      "cell_type": "markdown",
      "metadata": {},
      "source": [
        "**Run** 개체에서 메트릭과 출력을 검색할 수도 있습니다."
      ]
    },
    {
      "cell_type": "code",
      "execution_count": null,
      "metadata": {},
      "outputs": [],
      "source": [
        "# 로깅된 메트릭 가져오기\r\n",
        "metrics = run.get_metrics()\n",
        "for key in metrics.keys():\n",
        "        print(key, metrics.get(key))\n",
        "print('\\n')\n",
        "for file in run.get_file_names():\n",
        "    print(file)"
      ]
    },
    {
      "cell_type": "markdown",
      "metadata": {},
      "source": [
        "## 학습된 모델 등록\r\n",
        "\r\n",
        "실험의 출력에는 학습된 모델 파일(**diabetes_model.pkl**)이 포함됩니다. Azure Machine Learning 작업 영역에 이 모델을 등록하면 모델 버전을 추적하고 나중에 검색할 수 있습니다."
      ]
    },
    {
      "cell_type": "code",
      "execution_count": null,
      "metadata": {},
      "outputs": [],
      "source": [
        "from azureml.core import Model\n",
        "\n",
        "# 모델 등록\r\n",
        "run.register_model(model_path='outputs/diabetes_model.pkl', model_name='diabetes_model',\n",
        "                   tags={'Training context':'Estimator'},\n",
        "                   properties={'AUC': run.get_metrics()['AUC'], 'Accuracy': run.get_metrics()['Accuracy']})\n",
        "\n",
        "# 등록된 모델 목록 표시\r\n",
        "for model in Model.list(ws):\n",
        "    print(model.name, 'version:', model.version)\n",
        "    for tag_name in model.tags:\n",
        "        tag = model.tags[tag_name]\n",
        "        print ('\\t',tag_name, ':', tag)\n",
        "    for prop_name in model.properties:\n",
        "        prop = model.properties[prop_name]\n",
        "        print ('\\t',prop_name, ':', prop)\n",
        "    print('\\n')"
      ]
    },
    {
      "cell_type": "markdown",
      "metadata": {},
      "source": [
        "## 매개 변수가 있는 학습 스크립트 만들기\r\n",
        "\r\n",
        "스크립트에 매개 변수를 추가하면 학습 실험을 더 유동적으로 실행할 수 있습니다. 그러면 각기 다른 설정으로 같은 학습 실험을 반복할 수 있습니다. 여기서는 모델 학습 시 로지스틱 회귀 알고리즘에 사용되는 정규화 비율의 매개 변수를 추가합니다.\r\n",
        "\r\n",
        "이번에도 매개 변수가 있는 스크립트 및 학습 데이터용 폴더를 먼저 만들어 보겠습니다."
      ]
    },
    {
      "cell_type": "code",
      "execution_count": null,
      "metadata": {},
      "outputs": [],
      "source": [
        "import os, shutil\n",
        "\n",
        "# 실험 파일용 폴더 만들기\r\n",
        "training_folder = 'diabetes-training-params'\n",
        "os.makedirs(training_folder, exist_ok=True)\n",
        "\n",
        "# 실험 폴더에 데이터 파일 복사\r\n",
        "shutil.copy('data/diabetes.csv', os.path.join(training_folder, \"diabetes.csv\"))"
      ]
    },
    {
      "cell_type": "markdown",
      "metadata": {},
      "source": [
        "이제 정규화 비율 하이퍼 매개 변수에 해당하는 매개 변수가 포함된 스크립트를 만들어 보겠습니다."
      ]
    },
    {
      "cell_type": "code",
      "execution_count": null,
      "metadata": {},
      "outputs": [],
      "source": [
        "%%writefile $training_folder/diabetes_training.py\n",
        "# 라이브러리 가져오기\r\n",
        "from azureml.core import Run\n",
        "import pandas as pd\n",
        "import numpy as np\n",
        "import joblib\n",
        "import argparse\n",
        "from sklearn.model_selection import train_test_split\n",
        "from sklearn.linear_model import LogisticRegression\n",
        "from sklearn.metrics import roc_auc_score\n",
        "from sklearn.metrics import roc_curve\n",
        "\n",
        "# 실험 실행 컨텍스트 가져오기\r\n",
        "run = Run.get_context()\n",
        "\n",
        "# 정규화 하이퍼 매개 변수 설정\r\n",
        "parser = argparse.ArgumentParser()\n",
        "parser.add_argument('--reg_rate', type=float, dest='reg', default=0.01)\n",
        "args = parser.parse_args()\n",
        "reg = args.reg\n",
        "\n",
        "# 당뇨병 데이터 세트 로드\r\n",
        "print(\"Loading Data...\")\n",
        "# 당뇨병 데이터 세트 로드\r\n",
        "diabetes = pd.read_csv('diabetes.csv')\n",
        "\n",
        "# 기능 및 레이블 분리\r\n",
        "X, y = diabetes[['Pregnancies','PlasmaGlucose','DiastolicBloodPressure','TricepsThickness','SerumInsulin','BMI','DiabetesPedigree','Age']].values, diabetes['Diabetic'].values\n",
        "\n",
        "# 데이터를 학습 세트와 테스트 세트로 분할\r\n",
        "X_train, X_test, y_train, y_test = train_test_split(X, y, test_size=0.30, random_state=0)\n",
        "\n",
        "# 로지스틱 회귀 모델 학습\r\n",
        "print('Training a logistic regression model with regularization rate of', reg)\n",
        "run.log('Regularization Rate',  np.float(reg))\n",
        "model = LogisticRegression(C=1/reg, solver=\"liblinear\").fit(X_train, y_train)\n",
        "\n",
        "# 정확도 계산\r\n",
        "y_hat = model.predict(X_test)\n",
        "acc = np.average(y_hat == y_test)\n",
        "print('Accuracy:', acc)\n",
        "run.log('Accuracy', np.float(acc))\n",
        "\n",
        "# AUC 계산\r\n",
        "y_scores = model.predict_proba(X_test)\n",
        "auc = roc_auc_score(y_test,y_scores[:,1])\n",
        "print('AUC: ' + str(auc))\n",
        "run.log('AUC', np.float(auc))\n",
        "\n",
        "os.makedirs('outputs', exist_ok=True)\n",
        "joblib.dump(value=model, filename='outputs/diabetes_model.pkl')\n",
        "\n",
        "run.complete()"
      ]
    },
    {
      "cell_type": "markdown",
      "metadata": {},
      "source": [
        "## 프레임워크별 추정기 사용\r\n",
        "\r\n",
        "앞에서는 일반 **Estimator** 클래스를 사용하여 학습 스크립트를 실행했습니다. 하지만 일반 기계 학습 프레임워크용 환경 정의가 포함된 프레임워크별 추정기를 활용할 수도 있습니다. 여기서는 Scikit-Learn을 사용 중이므로 **SKLearn** 추정기를 사용할 수 있습니다. 즉, 구성에서 **scikit-learn** 패키지를 지정할 필요가 없습니다."
      ]
    },
    {
      "cell_type": "code",
      "execution_count": null,
      "metadata": {},
      "outputs": [],
      "source": [
        "from azureml.train.sklearn import SKLearn\n",
        "from azureml.widgets import RunDetails\n",
        "\n",
        "# 추정기 만들기\r\n",
        "estimator = SKLearn(source_directory=training_folder,\n",
        "                    entry_script='diabetes_training.py',\n",
        "                    script_params = {'--reg_rate': 0.1},\n",
        "                    compute_target='local'\n",
        "                    )\n",
        "\n",
        "# 실험 만들기\r\n",
        "experiment_name = 'diabetes-training'\n",
        "experiment = Experiment(workspace = ws, name = experiment_name)\n",
        "\n",
        "# 실험 실행\r\n",
        "run = experiment.submit(config=estimator)\n",
        "\n",
        "# 실행 중에 실행 세부 정보 표시\r\n",
        "RunDetails(run).show()\n",
        "run.wait_for_completion()"
      ]
    },
    {
      "cell_type": "markdown",
      "metadata": {},
      "source": [
        "이번에도 완료된 실행에서 메트릭과 출력을 가져올 수 있습니다."
      ]
    },
    {
      "cell_type": "code",
      "execution_count": null,
      "metadata": {},
      "outputs": [],
      "source": [
        "# 로깅된 메트릭 가져오기\r\n",
        "metrics = run.get_metrics()\n",
        "for key in metrics.keys():\n",
        "        print(key, metrics.get(key))\n",
        "print('\\n')\n",
        "for file in run.get_file_names():\n",
        "    print(file)"
      ]
    },
    {
      "cell_type": "markdown",
      "metadata": {},
      "source": [
        "## 모델의 새 버전 등록\r\n",
        "\r\n",
        "이제 새 모델을 학습시켰으므로 작업 영역에서 해당 모델을 새 버전으로 등록할 수 있습니다."
      ]
    },
    {
      "cell_type": "code",
      "execution_count": null,
      "metadata": {},
      "outputs": [],
      "source": [
        "from azureml.core import Model\n",
        "\n",
        "# 모델 등록\r\n",
        "run.register_model(model_path='outputs/diabetes_model.pkl', model_name='diabetes_model',\n",
        "                   tags={'Training context':'Parameterized SKLearn Estimator'},\n",
        "                   properties={'AUC': run.get_metrics()['AUC'], 'Accuracy': run.get_metrics()['Accuracy']})\n",
        "\n",
        "# 등록된 모델 목록 표시\r\n",
        "for model in Model.list(ws):\n",
        "    print(model.name, 'version:', model.version)\n",
        "    for tag_name in model.tags:\n",
        "        tag = model.tags[tag_name]\n",
        "        print ('\\t',tag_name, ':', tag)\n",
        "    for prop_name in model.properties:\n",
        "        prop = model.properties[prop_name]\n",
        "        print ('\\t',prop_name, ':', prop)\n",
        "    print('\\n')"
      ]
    },
    {
      "cell_type": "markdown",
      "metadata": {},
      "source": [
        "탐색을 완료했으면 이 Notebook을 닫고 컴퓨팅 인스턴스를 종료할 수 있습니다."
      ]
    }
  ],
  "metadata": {
    "kernelspec": {
      "display_name": "Python 3.6 - AzureML",
      "language": "python",
      "name": "python3-azureml"
    },
    "language_info": {
      "codemirror_mode": {
        "name": "ipython",
        "version": 3
      },
      "file_extension": ".py",
      "mimetype": "text/x-python",
      "name": "python",
      "nbconvert_exporter": "python",
      "pygments_lexer": "ipython3",
      "version": "3.6.9"
    }
  },
  "nbformat": 4,
  "nbformat_minor": 2
}